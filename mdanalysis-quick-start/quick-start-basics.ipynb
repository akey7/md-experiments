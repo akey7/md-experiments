{
 "cells": [
  {
   "cell_type": "code",
   "execution_count": 3,
   "metadata": {},
   "outputs": [],
   "source": [
    "import MDAnalysis as mda\n",
    "from MDAnalysis.tests.datafiles import PSF, DCD"
   ]
  },
  {
   "cell_type": "code",
   "execution_count": 4,
   "metadata": {},
   "outputs": [
    {
     "name": "stdout",
     "output_type": "stream",
     "text": [
      "<Universe with 3341 atoms>\n",
      "98\n"
     ]
    }
   ],
   "source": [
    "u = mda.Universe(PSF, DCD)\n",
    "print(u)\n",
    "print(len(u.trajectory))"
   ]
  },
  {
   "cell_type": "code",
   "execution_count": 5,
   "metadata": {},
   "outputs": [
    {
     "name": "stdout",
     "output_type": "stream",
     "text": [
      "<AtomGroup [<Atom 3337: HA1 of type 6 of resname GLY, resid 214 and segid 4AKE>, <Atom 3338: HA2 of type 6 of resname GLY, resid 214 and segid 4AKE>, <Atom 3339: C of type 32 of resname GLY, resid 214 and segid 4AKE>, <Atom 3340: OT1 of type 72 of resname GLY, resid 214 and segid 4AKE>, <Atom 3341: OT2 of type 72 of resname GLY, resid 214 and segid 4AKE>]>\n"
     ]
    }
   ],
   "source": [
    "last_five = u.atoms[-5:]\n",
    "print(last_five)"
   ]
  },
  {
   "cell_type": "code",
   "execution_count": 6,
   "metadata": {},
   "outputs": [
    {
     "name": "stdout",
     "output_type": "stream",
     "text": [
      "<ResidueGroup [<Residue MET, 1>, <Residue ARG, 2>, <Residue ILE, 3>, ..., <Residue ILE, 212>, <Residue LEU, 213>, <Residue GLY, 214>]>\n"
     ]
    }
   ],
   "source": [
    "print(u.residues)"
   ]
  },
  {
   "cell_type": "code",
   "execution_count": 7,
   "metadata": {},
   "outputs": [
    {
     "name": "stdout",
     "output_type": "stream",
     "text": [
      "50\n"
     ]
    }
   ],
   "source": [
    "print(u.residues[50:100].n_residues)"
   ]
  },
  {
   "cell_type": "code",
   "execution_count": 8,
   "metadata": {},
   "outputs": [
    {
     "name": "stdout",
     "output_type": "stream",
     "text": [
      "['N' 'HT1' 'HT2' 'HT3' 'CA' 'HA' 'CB' 'HB1' 'HB2' 'CG' 'HG1' 'HG2' 'SD'\n",
      " 'CE' 'HE1' 'HE2' 'HE3' 'C' 'O' 'N']\n"
     ]
    }
   ],
   "source": [
    "print(u.atoms[:20].names)"
   ]
  },
  {
   "cell_type": "code",
   "execution_count": 9,
   "metadata": {},
   "outputs": [
    {
     "name": "stdout",
     "output_type": "stream",
     "text": [
      "<ResidueGroup [<Residue MET, 1>, <Residue ARG, 2>]>\n"
     ]
    }
   ],
   "source": [
    "print(u.atoms[:20].residues)"
   ]
  },
  {
   "cell_type": "code",
   "execution_count": 10,
   "metadata": {},
   "outputs": [
    {
     "name": "stdout",
     "output_type": "stream",
     "text": [
      "<SegmentGroup [<Segment 4AKE>]>\n"
     ]
    }
   ],
   "source": [
    "print(u.atoms[:20].segments)"
   ]
  },
  {
   "cell_type": "code",
   "execution_count": 12,
   "metadata": {},
   "outputs": [
    {
     "name": "stdout",
     "output_type": "stream",
     "text": [
      "['N' 'HT1' 'HT2' 'HT3' 'CA' 'HA' 'CB' 'HB1' 'HB2' 'CG' 'HG1' 'HG2' 'SD'\n",
      " 'CE' 'HE1' 'HE2' 'HE3' 'C' 'O' 'N']\n"
     ]
    }
   ],
   "source": [
    "print(u.atoms[:20].names)"
   ]
  },
  {
   "cell_type": "code",
   "execution_count": 13,
   "metadata": {},
   "outputs": [
    {
     "name": "stdout",
     "output_type": "stream",
     "text": [
      "[('HG21', 1.008), ('HG22', 1.008), ('HG23', 1.008), ('CG1', 12.011), ('HG11', 1.008), ('HG12', 1.008), ('CD', 12.011), ('HD1', 1.008), ('HD2', 1.008), ('HD3', 1.008), ('C', 12.011), ('O', 15.999), ('N', 14.007), ('HN', 1.008), ('CA', 12.011), ('HA', 1.008), ('CB', 12.011), ('HB', 1.008), ('CG2', 12.011), ('HG21', 1.008)]\n"
     ]
    }
   ],
   "source": [
    "print(list(zip(u.atoms[50:70].names, u.atoms[50:70].masses)))"
   ]
  },
  {
   "cell_type": "code",
   "execution_count": 15,
   "metadata": {},
   "outputs": [
    {
     "name": "stdout",
     "output_type": "stream",
     "text": [
      "<ResidueGroup [<Residue MET, 1>, <Residue ARG, 2>]>\n"
     ]
    }
   ],
   "source": [
    "print(u.atoms[:20].residues)"
   ]
  },
  {
   "cell_type": "code",
   "execution_count": 16,
   "metadata": {},
   "outputs": [
    {
     "name": "stdout",
     "output_type": "stream",
     "text": [
      "<SegmentGroup [<Segment 4AKE>]>\n"
     ]
    }
   ],
   "source": [
    "print(u.atoms[-20:].segments)"
   ]
  },
  {
   "cell_type": "code",
   "execution_count": 17,
   "metadata": {},
   "outputs": [
    {
     "name": "stdout",
     "output_type": "stream",
     "text": [
      "['LEU' 'LEU' 'LEU' 'LEU' 'LEU' 'LEU' 'LEU' 'LEU' 'LEU' 'LEU' 'LEU' 'LEU'\n",
      " 'GLY' 'GLY' 'GLY' 'GLY' 'GLY' 'GLY' 'GLY' 'GLY']\n"
     ]
    }
   ],
   "source": [
    "print(u.atoms[-20:].resnames)"
   ]
  },
  {
   "cell_type": "code",
   "execution_count": 19,
   "metadata": {},
   "outputs": [
    {
     "data": {
      "text/plain": [
       "{('ASP', 'N'): <AtomGroup with 1 atom>,\n",
       " ('ASP', 'C'): <AtomGroup with 1 atom>,\n",
       " ('LEU', 'N'): <AtomGroup with 1 atom>,\n",
       " ('THR', 'N'): <AtomGroup with 1 atom>,\n",
       " ('ASN', 'O'): <AtomGroup with 1 atom>,\n",
       " ('ILE', 'C'): <AtomGroup with 2 atoms>,\n",
       " ('GLU', 'N'): <AtomGroup with 1 atom>,\n",
       " ('GLN', 'C'): <AtomGroup with 1 atom>,\n",
       " ('ALA', 'HN'): <AtomGroup with 2 atoms>,\n",
       " ('ALA', 'C'): <AtomGroup with 1 atom>,\n",
       " ('LYS', 'N'): <AtomGroup with 1 atom>,\n",
       " ('ARG', 'N'): <AtomGroup with 1 atom>}"
      ]
     },
     "execution_count": 19,
     "metadata": {},
     "output_type": "execute_result"
    }
   ],
   "source": [
    "near_met = u.select_atoms(\"not resname MET and (around 2 resname MET)\")\n",
    "near_met.groupby([\"resnames\", \"names\"])"
   ]
  },
  {
   "cell_type": "code",
   "execution_count": 20,
   "metadata": {},
   "outputs": [
    {
     "name": "stdout",
     "output_type": "stream",
     "text": [
      "[[11.664622    8.393473   -8.983231  ]\n",
      " [11.414839    5.4344215  -6.5134845 ]\n",
      " [ 8.959755    5.612923   -3.6132305 ]\n",
      " [ 8.290068    3.075991   -0.79665166]\n",
      " [ 5.011126    3.7638984   1.130355  ]]\n",
      "(5, 3)\n"
     ]
    }
   ],
   "source": [
    "ca = u.select_atoms(\"resid 1-5 and name CA\")\n",
    "print(ca.positions)\n",
    "print(ca.positions.shape)"
   ]
  },
  {
   "cell_type": "code",
   "execution_count": 22,
   "metadata": {},
   "outputs": [
    {
     "name": "stdout",
     "output_type": "stream",
     "text": [
      "[ 9.06808195  5.25614133 -3.75524844]\n"
     ]
    }
   ],
   "source": [
    "print(ca.center_of_mass())"
   ]
  },
  {
   "cell_type": "code",
   "execution_count": 23,
   "metadata": {},
   "outputs": [
    {
     "name": "stdout",
     "output_type": "stream",
     "text": [
      "['N' 'HT1' 'HT2']\n"
     ]
    }
   ],
   "source": [
    "nhh = u.atoms[:3]\n",
    "print(nhh.names)"
   ]
  },
  {
   "cell_type": "code",
   "execution_count": 26,
   "metadata": {},
   "outputs": [
    {
     "name": "stdout",
     "output_type": "stream",
     "text": [
      "37.99234750892497\n"
     ]
    }
   ],
   "source": [
    "angle_nhh = nhh.angle\n",
    "print(angle_nhh.value())"
   ]
  },
  {
   "cell_type": "code",
   "execution_count": null,
   "metadata": {},
   "outputs": [],
   "source": []
  }
 ],
 "metadata": {
  "kernelspec": {
   "display_name": "Python 3",
   "language": "python",
   "name": "python3"
  },
  "language_info": {
   "codemirror_mode": {
    "name": "ipython",
    "version": 3
   },
   "file_extension": ".py",
   "mimetype": "text/x-python",
   "name": "python",
   "nbconvert_exporter": "python",
   "pygments_lexer": "ipython3",
   "version": "3.8.2"
  }
 },
 "nbformat": 4,
 "nbformat_minor": 4
}
