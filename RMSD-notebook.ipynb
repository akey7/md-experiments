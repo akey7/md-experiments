{
 "cells": [
  {
   "cell_type": "code",
   "execution_count": 6,
   "metadata": {},
   "outputs": [],
   "source": [
    "import MDAnalysis as mda"
   ]
  },
  {
   "cell_type": "code",
   "execution_count": 7,
   "metadata": {},
   "outputs": [],
   "source": [
    "u = mda.Universe(\"1UBQ_solvate.psf\", \"1UBQ_eq.dcd\")"
   ]
  },
  {
   "cell_type": "code",
   "execution_count": 16,
   "metadata": {},
   "outputs": [
    {
     "name": "stdout",
     "output_type": "stream",
     "text": [
      "303\n",
      "303\n",
      "303\n",
      "303\n",
      "303\n",
      "303\n",
      "303\n",
      "303\n",
      "303\n",
      "303\n",
      "303\n",
      "303\n",
      "303\n",
      "303\n",
      "303\n",
      "303\n",
      "303\n",
      "303\n",
      "303\n",
      "303\n"
     ]
    }
   ],
   "source": [
    "for ts in u.trajectory[:20]:\n",
    "    protein = u.select_atoms(\"backbone\")\n",
    "    for "
   ]
  },
  {
   "cell_type": "code",
   "execution_count": null,
   "metadata": {},
   "outputs": [],
   "source": []
  }
 ],
 "metadata": {
  "kernelspec": {
   "display_name": "Python 3",
   "language": "python",
   "name": "python3"
  },
  "language_info": {
   "codemirror_mode": {
    "name": "ipython",
    "version": 3
   },
   "file_extension": ".py",
   "mimetype": "text/x-python",
   "name": "python",
   "nbconvert_exporter": "python",
   "pygments_lexer": "ipython3",
   "version": "3.8.2"
  }
 },
 "nbformat": 4,
 "nbformat_minor": 4
}
